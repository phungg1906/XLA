{
 "cells": [
  {
   "cell_type": "code",
   "execution_count": null,
   "id": "465dc763",
   "metadata": {},
   "outputs": [],
   "source": [
    "from PIL import Image\n",
    "import numpy as np\n",
    "import matplotlib.pyplot as plt\n",
    "import math\n",
    "\n",
    "# Mở ảnh và chuyển sang ảnh xám\n",
    "img = Image.open('world_cup.jpg').convert('L')\n",
    "\n",
    "# Chuyển ảnh sang mảng numpy\n",
    "im_1 = np.asarray(img)\n",
    "\n",
    "# Thiết lập giá trị gamma\n",
    "gamma = 5  # bạn có thể đổi thành gamma = 5 để xem sự thay đổi\n",
    "\n",
    "# Chuyển ảnh sang kiểu float\n",
    "h1 = im_1.astype(float)\n",
    "\n",
    "# Tìm giá trị pixel lớn nhất\n",
    "h2 = np.max(h1)\n",
    "\n",
    "# Chuẩn hóa giá trị pixel về khoảng 0 - 1\n",
    "h3 = h1 / h2\n",
    "\n",
    "# Tính gamma correction exponent\n",
    "h4 = np.log10(gamma)\n",
    "\n",
    "# Tính toán hiệu ứng gamma\n",
    "h5 = np.power(h3, gamma) * 255.0\n",
    "\n",
    "# Chuyển lại kiểu int\n",
    "h6 = h5.astype(np.uint8)\n",
    "\n",
    "# Tạo ảnh mới từ mảng đã hiệu chỉnh\n",
    "d = Image.fromarray(h6)\n",
    "\n",
    "# Hiển thị ảnh gốc\n",
    "img.show()\n",
    "\n",
    "# Hiển thị ảnh đã chỉnh gamma\n",
    "plt.imshow(d, cmap='gray')\n",
    "plt.title(f\"Gamma Corrected Image (gamma={gamma})\")\n",
    "plt.axis('off')\n",
    "plt.show()\n"
   ]
  }
 ],
 "metadata": {
  "language_info": {
   "name": "python"
  }
 },
 "nbformat": 4,
 "nbformat_minor": 5
}
