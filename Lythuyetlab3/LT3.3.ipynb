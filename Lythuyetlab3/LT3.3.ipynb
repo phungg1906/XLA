{
 "cells": [
  {
   "cell_type": "code",
   "execution_count": null,
   "id": "ff04a0dd",
   "metadata": {},
   "outputs": [
    {
     "name": "stdout",
     "output_type": "stream",
     "text": [
      "(1427, 2100, 3)\n",
      "(4281, 6300, 9)\n"
     ]
    }
   ],
   "source": [
    "import numpy as np\n",
    "import scipy.ndimage as nd\n",
    "import imageio.v2 as iio\n",
    "import matplotlib.pylab as plt\n",
    "\n",
    "data = iio.imread('fruit.jpg')\n",
    "print(data.shape)\n",
    "bdata = nd.zoom(data, 3)\n",
    "print(bdata.shape)\n",
    "data2 = nd.zoom(data, (6, 6, 3))\n",
    "print(data2.shape)\n",
    "data3 = nd.zoom(data, (1.5, 2.7, 3))\n",
    "plt.imshow(data3)\n",
    "plt.show()\n"
   ]
  }
 ],
 "metadata": {
  "kernelspec": {
   "display_name": "Python 3",
   "language": "python",
   "name": "python3"
  },
  "language_info": {
   "codemirror_mode": {
    "name": "ipython",
    "version": 3
   },
   "file_extension": ".py",
   "mimetype": "text/x-python",
   "name": "python",
   "nbconvert_exporter": "python",
   "pygments_lexer": "ipython3",
   "version": "3.11.2"
  }
 },
 "nbformat": 4,
 "nbformat_minor": 5
}
