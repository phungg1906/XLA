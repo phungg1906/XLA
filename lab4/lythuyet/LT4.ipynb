{
 "cells": [
  {
   "cell_type": "code",
   "execution_count": null,
   "id": "c58725f6",
   "metadata": {},
   "outputs": [],
   "source": [
    "#otsu\n",
    "from PIL import Image\n",
    "import numpy as np\n",
    "import imageio.v2 as iio\n",
    "import scipy.ndimage as nd\n",
    "import matplotlib.pylab as plt\n",
    "from skimage.filters.thresholding import threshold_otsu\n",
    "\n",
    "data = Image.open('dalat.jpg').convert('L')\n",
    "\n",
    "a = np.asarray(data)\n",
    "thres = threshold_otsu(a)\n",
    "b = a > thres\n",
    "b = Image.fromarray(b)\n",
    "plt.imshow(b)\n",
    "plt.show()"
   ]
  },
  {
   "cell_type": "code",
   "execution_count": null,
   "id": "b877550f",
   "metadata": {},
   "outputs": [],
   "source": [
    "#thresholding\n",
    "from PIL import Image\n",
    "import numpy as np\n",
    "import imageio.v2 as iio\n",
    "import scipy.ndimage as nd\n",
    "import matplotlib.pylab as plt\n",
    "from skimage.filters import threshold_local\n",
    "\n",
    "data = Image.open('dalat.jpg').convert('L')\n",
    "a = np.asarray(data)\n",
    "b= threshold_local(a, 39, offset=10)\n",
    "b= Image.fromarray(b)\n",
    "plt.imshow(b)\n",
    "plt.show()"
   ]
  },
  {
   "cell_type": "code",
   "execution_count": null,
   "id": "bd83540b",
   "metadata": {},
   "outputs": [],
   "source": [
    "#phan vung region\n",
    "import cv2\n",
    "from PIL import Image\n",
    "import numpy as np\n",
    "import imageio.v2 as iio\n",
    "import scipy.ndimage as nd\n",
    "from scipy.ndimage import label\n",
    "import matplotlib.pylab as plt\n",
    "from skimage.filters import threshold_local\n",
    "\n",
    "data = cv2.imread('dalat.jpg')\n",
    "a = cv2.cvtColor(data, cv2.COLOR_BGR2GRAY)\n",
    "thresh, b1 = cv2.threshold(a, 0 ,255, cv2.THRESH_BINARY_INV + cv2.THRESH_OTSU)\n",
    "b2 = cv2.erode(b1, None, iterations = 2)\n",
    "dist_trans = cv2.distanceTransform(b2, 2, 3)\n",
    "thresh, dt = cv2.threshold(dist_trans, 1, 255, cv2.THRESH_BINARY)\n",
    "labelled, ncc = label(dt)\n",
    "labelled = labelled.astype(np.int32)\n",
    "cv2.watershed(data, labelled)\n",
    "b = Image.fromarray(labelled)\n",
    "\n",
    "plt.imshow(b)\n",
    "plt.show()"
   ]
  },
  {
   "cell_type": "code",
   "execution_count": null,
   "id": "4a104103",
   "metadata": {},
   "outputs": [],
   "source": [
    "#binary_dilation\n",
    "import cv2\n",
    "from PIL import Image\n",
    "import numpy as np\n",
    "import imageio.v2 as iio\n",
    "from scipy.ndimage import label\n",
    "import matplotlib.pylab as plt\n",
    "from skimage.filters import threshold_local\n",
    "\n",
    "data = Image.open('dalat.jpg').convert('L')\n",
    "b = nd.binary_dilation(data, iterations=50)\n",
    "c = Image.fromarray(b)\n",
    "c.show()\n",
    "plt.imshow(c)\n",
    "plt.show()\n",
    "\n"
   ]
  },
  {
   "cell_type": "code",
   "execution_count": null,
   "id": "f474e377",
   "metadata": {},
   "outputs": [],
   "source": [
    "#binary_opening\n",
    "import cv2\n",
    "from PIL import Image\n",
    "import numpy as np\n",
    "import imageio.v2 as iio\n",
    "import scipy.ndimage as nd\n",
    "from scipy.ndimage import label\n",
    "import matplotlib.pylab as plt\n",
    "from skimage.filters import threshold_local\n",
    "\n",
    "data = Image.open('dalat.jpg').convert('L')\n",
    "s = [[0, 1, 0], [1, 1, 1], [0,1,0]]\n",
    "b = nd.binary_opening(data, structure=s, iterations=25)\n",
    "c = Image.fromarray(b)\n",
    "c.show()\n",
    "plt.imshow(c)\n",
    "plt.show()"
   ]
  },
  {
   "cell_type": "code",
   "execution_count": null,
   "id": "7fe3978a",
   "metadata": {},
   "outputs": [],
   "source": [
    "#binary_erosion\n",
    "import cv2\n",
    "from PIL import Image\n",
    "import numpy as np\n",
    "import imageio.v2 as iio\n",
    "import scipy.ndimage as nd\n",
    "from scipy.ndimage import label\n",
    "import matplotlib.pylab as plt\n",
    "from skimage.filters import threshold_local\n",
    "\n",
    "data = Image.open('dalat.jpg').convert('L')\n",
    "s = [[0, 1, 0], [1, 1, 1], [0, 1, 0]]\n",
    "b = nd.binary_erosion(data, structure=s, iterations=50)\n",
    "\n",
    "c = Image.fromarray(b)\n",
    "c.show()\n",
    "plt.imshow(c)\n",
    "plt.show()"
   ]
  },
  {
   "cell_type": "code",
   "execution_count": null,
   "id": "66af24df",
   "metadata": {},
   "outputs": [],
   "source": [
    "import cv2\n",
    "from PIL import Image\n",
    "import numpy as np\n",
    "import imageio.v2 as iio\n",
    "import scipy.ndimage as nd\n",
    "from scipy.ndimage import label\n",
    "import matplotlib.pylab as plt\n",
    "from skimage.filters import threshold_local\n",
    "\n",
    "data = Image.open('dalat.jpg').convert('L')\n",
    "s = [[0, 1, 0], [1, 1, 1,], [0, 1, 0]]\n",
    "b = nd.binary_closing(data, structure=s, iterations=50)\n",
    "c= Image.fromarray(b)\n",
    "c.show()\n",
    "plt.imshow(c)\n",
    "plt.show()"
   ]
  }
 ],
 "metadata": {
  "kernelspec": {
   "display_name": "Python 3",
   "language": "python",
   "name": "python3"
  },
  "language_info": {
   "codemirror_mode": {
    "name": "ipython",
    "version": 3
   },
   "file_extension": ".py",
   "mimetype": "text/x-python",
   "name": "python",
   "nbconvert_exporter": "python",
   "pygments_lexer": "ipython3",
   "version": "3.11.2"
  }
 },
 "nbformat": 4,
 "nbformat_minor": 5
}
