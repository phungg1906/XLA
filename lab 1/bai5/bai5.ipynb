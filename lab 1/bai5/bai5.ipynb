{
 "cells": [
  {
   "cell_type": "code",
   "execution_count": 1,
   "metadata": {},
   "outputs": [
    {
     "ename": "TypeError",
     "evalue": "The keyword `as_gray` is no longer supported.Use `mode='F'` for a backward-compatible result, or  `mode='L'` for an integer-valued result.",
     "output_type": "error",
     "traceback": [
      "\u001b[31m---------------------------------------------------------------------------\u001b[39m",
      "\u001b[31mTypeError\u001b[39m                                 Traceback (most recent call last)",
      "\u001b[36mCell\u001b[39m\u001b[36m \u001b[39m\u001b[32mIn[1]\u001b[39m\u001b[32m, line 7\u001b[39m\n\u001b[32m      4\u001b[39m \u001b[38;5;28;01mimport\u001b[39;00m\u001b[38;5;250m \u001b[39m\u001b[34;01mmatplotlib\u001b[39;00m\u001b[34;01m.\u001b[39;00m\u001b[34;01mpylab\u001b[39;00m\u001b[38;5;250m \u001b[39m\u001b[38;5;28;01mas\u001b[39;00m\u001b[38;5;250m \u001b[39m\u001b[34;01mplt\u001b[39;00m\n\u001b[32m      5\u001b[39m \u001b[38;5;28;01mimport\u001b[39;00m\u001b[38;5;250m \u001b[39m\u001b[34;01mcolorsys\u001b[39;00m\n\u001b[32m----> \u001b[39m\u001b[32m7\u001b[39m a = \u001b[43miio\u001b[49m\u001b[43m.\u001b[49m\u001b[43mimread\u001b[49m\u001b[43m(\u001b[49m\u001b[33;43m'\u001b[39;49m\u001b[33;43mbird.png\u001b[39;49m\u001b[33;43m'\u001b[39;49m\u001b[43m,\u001b[49m\u001b[43m \u001b[49m\u001b[43mas_gray\u001b[49m\u001b[43m=\u001b[49m\u001b[38;5;28;43;01mTrue\u001b[39;49;00m\u001b[43m)\u001b[49m\n\u001b[32m      9\u001b[39m k = np.ones((\u001b[32m5\u001b[39m,\u001b[32m5\u001b[39m))/\u001b[32m25\u001b[39m\n\u001b[32m     11\u001b[39m b = sn.convolve(a, k).astype(np.uint8)\n",
      "\u001b[36mFile \u001b[39m\u001b[32mc:\\Users\\ADMIN\\AppData\\Local\\Programs\\Python\\Python311\\Lib\\site-packages\\imageio\\v2.py:360\u001b[39m, in \u001b[36mimread\u001b[39m\u001b[34m(uri, format, **kwargs)\u001b[39m\n\u001b[32m    357\u001b[39m imopen_args[\u001b[33m\"\u001b[39m\u001b[33mlegacy_mode\u001b[39m\u001b[33m\"\u001b[39m] = \u001b[38;5;28;01mTrue\u001b[39;00m\n\u001b[32m    359\u001b[39m \u001b[38;5;28;01mwith\u001b[39;00m imopen(uri, \u001b[33m\"\u001b[39m\u001b[33mri\u001b[39m\u001b[33m\"\u001b[39m, **imopen_args) \u001b[38;5;28;01mas\u001b[39;00m file:\n\u001b[32m--> \u001b[39m\u001b[32m360\u001b[39m     result = \u001b[43mfile\u001b[49m\u001b[43m.\u001b[49m\u001b[43mread\u001b[49m\u001b[43m(\u001b[49m\u001b[43mindex\u001b[49m\u001b[43m=\u001b[49m\u001b[32;43m0\u001b[39;49m\u001b[43m,\u001b[49m\u001b[43m \u001b[49m\u001b[43m*\u001b[49m\u001b[43m*\u001b[49m\u001b[43mkwargs\u001b[49m\u001b[43m)\u001b[49m\n\u001b[32m    362\u001b[39m \u001b[38;5;28;01mreturn\u001b[39;00m result\n",
      "\u001b[36mFile \u001b[39m\u001b[32mc:\\Users\\ADMIN\\AppData\\Local\\Programs\\Python\\Python311\\Lib\\site-packages\\imageio\\plugins\\pillow.py:228\u001b[39m, in \u001b[36mPillowPlugin.read\u001b[39m\u001b[34m(self, index, mode, rotate, apply_gamma, writeable_output, pilmode, exifrotate, as_gray)\u001b[39m\n\u001b[32m    225\u001b[39m     rotate = exifrotate\n\u001b[32m    227\u001b[39m \u001b[38;5;28;01mif\u001b[39;00m as_gray \u001b[38;5;129;01mis\u001b[39;00m \u001b[38;5;129;01mnot\u001b[39;00m \u001b[38;5;28;01mNone\u001b[39;00m:\n\u001b[32m--> \u001b[39m\u001b[32m228\u001b[39m     \u001b[38;5;28;01mraise\u001b[39;00m \u001b[38;5;167;01mTypeError\u001b[39;00m(\n\u001b[32m    229\u001b[39m         \u001b[33m\"\u001b[39m\u001b[33mThe keyword `as_gray` is no longer supported.\u001b[39m\u001b[33m\"\u001b[39m\n\u001b[32m    230\u001b[39m         \u001b[33m\"\u001b[39m\u001b[33mUse `mode=\u001b[39m\u001b[33m'\u001b[39m\u001b[33mF\u001b[39m\u001b[33m'\u001b[39m\u001b[33m` for a backward-compatible result, or \u001b[39m\u001b[33m\"\u001b[39m\n\u001b[32m    231\u001b[39m         \u001b[33m\"\u001b[39m\u001b[33m `mode=\u001b[39m\u001b[33m'\u001b[39m\u001b[33mL\u001b[39m\u001b[33m'\u001b[39m\u001b[33m` for an integer-valued result.\u001b[39m\u001b[33m\"\u001b[39m\n\u001b[32m    232\u001b[39m     )\n\u001b[32m    234\u001b[39m \u001b[38;5;28;01mif\u001b[39;00m \u001b[38;5;28mself\u001b[39m._image.format == \u001b[33m\"\u001b[39m\u001b[33mGIF\u001b[39m\u001b[33m\"\u001b[39m:\n\u001b[32m    235\u001b[39m     \u001b[38;5;66;03m# Converting GIF P frames to RGB\u001b[39;00m\n\u001b[32m    236\u001b[39m     \u001b[38;5;66;03m# https://github.com/python-pillow/Pillow/pull/6150\u001b[39;00m\n\u001b[32m    237\u001b[39m     GifImagePlugin.LOADING_STRATEGY = (\n\u001b[32m    238\u001b[39m         GifImagePlugin.LoadingStrategy.RGB_AFTER_DIFFERENT_PALETTE_ONLY\n\u001b[32m    239\u001b[39m     )\n",
      "\u001b[31mTypeError\u001b[39m: The keyword `as_gray` is no longer supported.Use `mode='F'` for a backward-compatible result, or  `mode='L'` for an integer-valued result."
     ]
    }
   ],
   "source": [
    "\n",
    "import numpy as np\n",
    "import imageio.v2 as iio\n",
    "import scipy.ndimage as sn\n",
    "import matplotlib.pylab as plt\n",
    "import colorsys\n",
    "\n",
    "a = iio.imread('bird.png', as_gray=True)\n",
    "\n",
    "k = np.ones((5,5))/25\n",
    "\n",
    "b = sn.convolve(a, k).astype(np.uint8)\n",
    "iio.imsave('bird_mean_filter.png', b)\n",
    "\n",
    "print(b)\n",
    "plt.imshow(b)\n",
    "plt.show()"
   ]
  }
 ],
 "metadata": {
  "kernelspec": {
   "display_name": "Python 3",
   "language": "python",
   "name": "python3"
  },
  "language_info": {
   "codemirror_mode": {
    "name": "ipython",
    "version": 3
   },
   "file_extension": ".py",
   "mimetype": "text/x-python",
   "name": "python",
   "nbconvert_exporter": "python",
   "pygments_lexer": "ipython3",
   "version": "3.11.2"
  }
 },
 "nbformat": 4,
 "nbformat_minor": 2
}
